{
 "cells": [
  {
   "cell_type": "code",
   "execution_count": 1,
   "id": "57c3e03c",
   "metadata": {},
   "outputs": [],
   "source": [
    "import numpy as np"
   ]
  },
  {
   "cell_type": "code",
   "execution_count": 3,
   "id": "514ae37d",
   "metadata": {},
   "outputs": [],
   "source": [
    "### THIS DOES NOT WORK WITH DATA FROM UNITY\n",
    "def getLatLonFromXYZ(x, y, z):\n",
    "    R = 6371\n",
    "    if np.abs(z) < 1:\n",
    "        lat = np.degrees(np.arcsin(z))\n",
    "    else:\n",
    "        lat = np.degrees(np.arcsin(z/R))\n",
    "    lon = np.degrees(np.arctan2(y, x))\n",
    "    print(f'METHOD 1: Latitude is {lat:.2f} and longitude is {lon:.2f}')\n",
    "    return (lat, lon)"
   ]
  },
  {
   "cell_type": "code",
   "execution_count": 13,
   "id": "cd04ca3f",
   "metadata": {},
   "outputs": [],
   "source": [
    "def getLatLonFromXYZ_2(x, y, z):\n",
    "    R = 6371\n",
    "    # Make x, y, z between -1 and 1\n",
    "    x, y, z = 2*x, 2*y, 2*z\n",
    "    if np.abs(y) < 1:\n",
    "        lat = np.degrees(np.arcsin(y))\n",
    "    else:\n",
    "        lat = np.degrees(np.arcsin(y/R))\n",
    "    lon = np.degrees(np.arctan2(z, x))\n",
    "    print(f'METHOD 2: Latitude is {lat:.2f} and longitude is {lon:.2f}')\n",
    "    return (lat, lon)"
   ]
  },
  {
   "cell_type": "code",
   "execution_count": 14,
   "id": "d60d4300",
   "metadata": {},
   "outputs": [
    {
     "name": "stdout",
     "output_type": "stream",
     "text": [
      "METHOD 1: Latitude is 0.23 and longitude is 89.86\n",
      "METHOD 2: Latitude is 89.52 and longitude is 73.77\n"
     ]
    }
   ],
   "source": [
    "# north pole 1\n",
    "(x, y, z) = (0.0011845998233184218, 0.499982088804245, 0.004069805145263672)\n",
    "lat, lon = getLatLonFromXYZ(x, y, z)\n",
    "lat_2, lon_2 = getLatLonFromXYZ_2(x, y, z)"
   ]
  },
  {
   "cell_type": "code",
   "execution_count": 15,
   "id": "b3b4a6ea",
   "metadata": {},
   "outputs": [
    {
     "name": "stdout",
     "output_type": "stream",
     "text": [
      "METHOD 1: Latitude is -0.25 and longitude is 90.04\n",
      "METHOD 2: Latitude is 89.50 and longitude is -94.09\n"
     ]
    }
   ],
   "source": [
    "# north pole 2\n",
    "(x, y, z) = (-0.0003104, 0.49998098, -0.0043385368)\n",
    "lat, lon = getLatLonFromXYZ(x, y, z)\n",
    "lat_2, lon_2 = getLatLonFromXYZ_2(x, y, z)"
   ]
  },
  {
   "cell_type": "code",
   "execution_count": 16,
   "id": "c3667721",
   "metadata": {},
   "outputs": [
    {
     "name": "stdout",
     "output_type": "stream",
     "text": [
      "METHOD 1: Latitude is -0.04 and longitude is 60.14\n",
      "METHOD 2: Latitude is 60.14 and longitude is -0.17\n"
     ]
    }
   ],
   "source": [
    "#londres (lon should be close to 0, lat 51 deg)\n",
    "(x, y, z) = (0.248966246843338, 0.4336073696613312, -0.0007191513432189822)\n",
    "lat, lon = getLatLonFromXYZ(x, y, z)\n",
    "lat_2, lon_2 = getLatLonFromXYZ_2(x, y, z)"
   ]
  },
  {
   "cell_type": "code",
   "execution_count": 17,
   "id": "5f84b030",
   "metadata": {},
   "outputs": [
    {
     "name": "stdout",
     "output_type": "stream",
     "text": [
      "METHOD 1: Latitude is -29.30 and longitude is 11.14\n",
      "METHOD 2: Latitude is 2.27 and longitude is -78.41\n"
     ]
    }
   ],
   "source": [
    "#Ecuador (Lat should be close to 0, Lon -78)\n",
    "(x, y, z) = (0.10038748383522034, 0.01977699249982834, -0.48941925168037415)\n",
    "lat, lon = getLatLonFromXYZ(x, y, z)\n",
    "lat_2, lon_2 = getLatLonFromXYZ_2(x, y, z)"
   ]
  },
  {
   "cell_type": "code",
   "execution_count": 18,
   "id": "f5117e54",
   "metadata": {},
   "outputs": [
    {
     "name": "stdout",
     "output_type": "stream",
     "text": [
      "METHOD 1: Latitude is 0.10 and longitude is -91.63\n",
      "METHOD 2: Latitude is -88.36 and longitude is 173.01\n"
     ]
    }
   ],
   "source": [
    "#South pole (Lat close to -90)\n",
    "(x, y, z) = (-0.014206022024154663, -0.49979543685913086, 0.0017421586671844125)\n",
    "lat, lon = getLatLonFromXYZ(x, y, z)\n",
    "lat_2, lon_2 = getLatLonFromXYZ_2(x, y, z)"
   ]
  },
  {
   "cell_type": "code",
   "execution_count": null,
   "id": "8fec05f1",
   "metadata": {},
   "outputs": [],
   "source": []
  }
 ],
 "metadata": {
  "kernelspec": {
   "display_name": "Python 3",
   "language": "python",
   "name": "python3"
  },
  "language_info": {
   "codemirror_mode": {
    "name": "ipython",
    "version": 3
   },
   "file_extension": ".py",
   "mimetype": "text/x-python",
   "name": "python",
   "nbconvert_exporter": "python",
   "pygments_lexer": "ipython3",
   "version": "3.9.15"
  },
  "vscode": {
   "interpreter": {
    "hash": "ff3af5cf4e15a0dcc40d265ecd39560e22b2b3a2bfe726dcd2018d0d8fe9c853"
   }
  }
 },
 "nbformat": 4,
 "nbformat_minor": 5
}
