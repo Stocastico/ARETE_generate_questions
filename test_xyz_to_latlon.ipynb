{
 "cells": [
  {
   "cell_type": "code",
   "execution_count": 2,
   "id": "57c3e03c",
   "metadata": {},
   "outputs": [],
   "source": [
    "import numpy as np"
   ]
  },
  {
   "cell_type": "code",
   "execution_count": 12,
   "id": "514ae37d",
   "metadata": {},
   "outputs": [],
   "source": [
    "def getLatLonFromXYZ(x, y, z):\n",
    "    R = 6371\n",
    "    if np.abs(z) < 1:\n",
    "        lat = np.degrees(np.arcsin(z))\n",
    "    else:\n",
    "        lat = np.degrees(np.arcsin(z/R))\n",
    "    lon = np.degrees(np.arctan2(y, x))\n",
    "    print(f'Latitude is {lat:.2f} and longitude is {lon:.2f}')\n",
    "    return (lat, lon)"
   ]
  },
  {
   "cell_type": "code",
   "execution_count": 17,
   "id": "d60d4300",
   "metadata": {},
   "outputs": [
    {
     "name": "stdout",
     "output_type": "stream",
     "text": [
      "Latitude is 0.23 and longitude is 89.86\n"
     ]
    }
   ],
   "source": [
    "# north pole 1\n",
    "(x, y, z) = (0.0011845998233184218, 0.499982088804245, 0.004069805145263672)\n",
    "lat, lon = getLatLonFromXYZ(x, y, z)"
   ]
  },
  {
   "cell_type": "code",
   "execution_count": 13,
   "id": "b3b4a6ea",
   "metadata": {},
   "outputs": [
    {
     "name": "stdout",
     "output_type": "stream",
     "text": [
      "Latitude is -0.25 and longitude is 90.04\n"
     ]
    }
   ],
   "source": [
    "# north pole 2\n",
    "(x, y, z) = (-0.0003104, 0.49998098, -0.0043385368)\n",
    "lat, lon = getLatLonFromXYZ(x, y, z)"
   ]
  },
  {
   "cell_type": "code",
   "execution_count": 15,
   "id": "c3667721",
   "metadata": {},
   "outputs": [
    {
     "name": "stdout",
     "output_type": "stream",
     "text": [
      "Latitude is -0.04 and longitude is 60.14\n"
     ]
    }
   ],
   "source": [
    "#londres (lon should be close to 0, lat 51 deg)\n",
    "(x, y, z) = (0.248966246843338, 0.4336073696613312, -0.0007191513432189822)\n",
    "lat, lon = getLatLonFromXYZ(x, y, z)"
   ]
  },
  {
   "cell_type": "code",
   "execution_count": 16,
   "id": "5f84b030",
   "metadata": {},
   "outputs": [
    {
     "name": "stdout",
     "output_type": "stream",
     "text": [
      "Latitude is -29.30 and longitude is 11.14\n"
     ]
    }
   ],
   "source": [
    "#Ecuador (Lat should be close to 0, Lon -78)\n",
    "(x, y, z) = (0.10038748383522034, 0.01977699249982834, -0.48941925168037415)\n",
    "lat, lon = getLatLonFromXYZ(x, y, z)"
   ]
  },
  {
   "cell_type": "code",
   "execution_count": 18,
   "id": "f5117e54",
   "metadata": {},
   "outputs": [
    {
     "name": "stdout",
     "output_type": "stream",
     "text": [
      "Latitude is 0.10 and longitude is -91.63\n"
     ]
    }
   ],
   "source": [
    "#South pole ()\n",
    "(x, y, z) = (-0.014206022024154663, -0.49979543685913086, 0.0017421586671844125)\n",
    "lat, lon = getLatLonFromXYZ(x, y, z)"
   ]
  },
  {
   "cell_type": "code",
   "execution_count": null,
   "id": "8fec05f1",
   "metadata": {},
   "outputs": [],
   "source": []
  }
 ],
 "metadata": {
  "kernelspec": {
   "display_name": "Python 3 (ipykernel)",
   "language": "python",
   "name": "python3"
  },
  "language_info": {
   "codemirror_mode": {
    "name": "ipython",
    "version": 3
   },
   "file_extension": ".py",
   "mimetype": "text/x-python",
   "name": "python",
   "nbconvert_exporter": "python",
   "pygments_lexer": "ipython3",
   "version": "3.9.7"
  }
 },
 "nbformat": 4,
 "nbformat_minor": 5
}
